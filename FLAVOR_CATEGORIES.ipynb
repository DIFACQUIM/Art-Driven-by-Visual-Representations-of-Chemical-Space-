{
  "nbformat": 4,
  "nbformat_minor": 0,
  "metadata": {
    "colab": {
      "provenance": [],
      "authorship_tag": "ABX9TyPo3iL/AaE3z0LvaGmmL1Ce",
      "include_colab_link": true
    },
    "kernelspec": {
      "name": "python3",
      "display_name": "Python 3"
    },
    "language_info": {
      "name": "python"
    },
    "widgets": {
      "application/vnd.jupyter.widget-state+json": {
        "e2879c7ee86b4877bc12ac312d5d1404": {
          "model_module": "@jupyter-widgets/controls",
          "model_name": "HBoxModel",
          "model_module_version": "1.5.0",
          "state": {
            "_dom_classes": [],
            "_model_module": "@jupyter-widgets/controls",
            "_model_module_version": "1.5.0",
            "_model_name": "HBoxModel",
            "_view_count": null,
            "_view_module": "@jupyter-widgets/controls",
            "_view_module_version": "1.5.0",
            "_view_name": "HBoxView",
            "box_style": "",
            "children": [
              "IPY_MODEL_84469d2789b4425bbd5173cfaa9048d3",
              "IPY_MODEL_c1e923c41c0c46cb9b49f2fe708525fa",
              "IPY_MODEL_81a3f3a478024007bcc349f9fde774b1"
            ],
            "layout": "IPY_MODEL_a9a56933cc7d4195bc95d1c718f03463"
          }
        },
        "84469d2789b4425bbd5173cfaa9048d3": {
          "model_module": "@jupyter-widgets/controls",
          "model_name": "HTMLModel",
          "model_module_version": "1.5.0",
          "state": {
            "_dom_classes": [],
            "_model_module": "@jupyter-widgets/controls",
            "_model_module_version": "1.5.0",
            "_model_name": "HTMLModel",
            "_view_count": null,
            "_view_module": "@jupyter-widgets/controls",
            "_view_module_version": "1.5.0",
            "_view_name": "HTMLView",
            "description": "",
            "description_tooltip": null,
            "layout": "IPY_MODEL_d6b0fd05b7c14700bcb9ded565250ffe",
            "placeholder": "​",
            "style": "IPY_MODEL_4290afe621f941b78b1cee14b7599338",
            "value": ""
          }
        },
        "c1e923c41c0c46cb9b49f2fe708525fa": {
          "model_module": "@jupyter-widgets/controls",
          "model_name": "FloatProgressModel",
          "model_module_version": "1.5.0",
          "state": {
            "_dom_classes": [],
            "_model_module": "@jupyter-widgets/controls",
            "_model_module_version": "1.5.0",
            "_model_name": "FloatProgressModel",
            "_view_count": null,
            "_view_module": "@jupyter-widgets/controls",
            "_view_module_version": "1.5.0",
            "_view_name": "ProgressView",
            "bar_style": "success",
            "description": "",
            "description_tooltip": null,
            "layout": "IPY_MODEL_e120d4441ec44ccfb86f4daaa8c1a270",
            "max": 100,
            "min": 0,
            "orientation": "horizontal",
            "style": "IPY_MODEL_b3cdca60b3dd4db1a7810dcd4743a7ed",
            "value": 100
          }
        },
        "81a3f3a478024007bcc349f9fde774b1": {
          "model_module": "@jupyter-widgets/controls",
          "model_name": "HTMLModel",
          "model_module_version": "1.5.0",
          "state": {
            "_dom_classes": [],
            "_model_module": "@jupyter-widgets/controls",
            "_model_module_version": "1.5.0",
            "_model_name": "HTMLModel",
            "_view_count": null,
            "_view_module": "@jupyter-widgets/controls",
            "_view_module_version": "1.5.0",
            "_view_name": "HTMLView",
            "description": "",
            "description_tooltip": null,
            "layout": "IPY_MODEL_14f402406f554878805ad84490d320f6",
            "placeholder": "​",
            "style": "IPY_MODEL_2873c363b05a4fa1b70ca625945edf3c",
            "value": " 150/? [00:25&lt;00:00,  6.50it/s]"
          }
        },
        "a9a56933cc7d4195bc95d1c718f03463": {
          "model_module": "@jupyter-widgets/base",
          "model_name": "LayoutModel",
          "model_module_version": "1.2.0",
          "state": {
            "_model_module": "@jupyter-widgets/base",
            "_model_module_version": "1.2.0",
            "_model_name": "LayoutModel",
            "_view_count": null,
            "_view_module": "@jupyter-widgets/base",
            "_view_module_version": "1.2.0",
            "_view_name": "LayoutView",
            "align_content": null,
            "align_items": null,
            "align_self": null,
            "border": null,
            "bottom": null,
            "display": null,
            "flex": null,
            "flex_flow": null,
            "grid_area": null,
            "grid_auto_columns": null,
            "grid_auto_flow": null,
            "grid_auto_rows": null,
            "grid_column": null,
            "grid_gap": null,
            "grid_row": null,
            "grid_template_areas": null,
            "grid_template_columns": null,
            "grid_template_rows": null,
            "height": null,
            "justify_content": null,
            "justify_items": null,
            "left": null,
            "margin": null,
            "max_height": null,
            "max_width": null,
            "min_height": null,
            "min_width": null,
            "object_fit": null,
            "object_position": null,
            "order": null,
            "overflow": null,
            "overflow_x": null,
            "overflow_y": null,
            "padding": null,
            "right": null,
            "top": null,
            "visibility": null,
            "width": null
          }
        },
        "d6b0fd05b7c14700bcb9ded565250ffe": {
          "model_module": "@jupyter-widgets/base",
          "model_name": "LayoutModel",
          "model_module_version": "1.2.0",
          "state": {
            "_model_module": "@jupyter-widgets/base",
            "_model_module_version": "1.2.0",
            "_model_name": "LayoutModel",
            "_view_count": null,
            "_view_module": "@jupyter-widgets/base",
            "_view_module_version": "1.2.0",
            "_view_name": "LayoutView",
            "align_content": null,
            "align_items": null,
            "align_self": null,
            "border": null,
            "bottom": null,
            "display": null,
            "flex": null,
            "flex_flow": null,
            "grid_area": null,
            "grid_auto_columns": null,
            "grid_auto_flow": null,
            "grid_auto_rows": null,
            "grid_column": null,
            "grid_gap": null,
            "grid_row": null,
            "grid_template_areas": null,
            "grid_template_columns": null,
            "grid_template_rows": null,
            "height": null,
            "justify_content": null,
            "justify_items": null,
            "left": null,
            "margin": null,
            "max_height": null,
            "max_width": null,
            "min_height": null,
            "min_width": null,
            "object_fit": null,
            "object_position": null,
            "order": null,
            "overflow": null,
            "overflow_x": null,
            "overflow_y": null,
            "padding": null,
            "right": null,
            "top": null,
            "visibility": null,
            "width": null
          }
        },
        "4290afe621f941b78b1cee14b7599338": {
          "model_module": "@jupyter-widgets/controls",
          "model_name": "DescriptionStyleModel",
          "model_module_version": "1.5.0",
          "state": {
            "_model_module": "@jupyter-widgets/controls",
            "_model_module_version": "1.5.0",
            "_model_name": "DescriptionStyleModel",
            "_view_count": null,
            "_view_module": "@jupyter-widgets/base",
            "_view_module_version": "1.2.0",
            "_view_name": "StyleView",
            "description_width": ""
          }
        },
        "e120d4441ec44ccfb86f4daaa8c1a270": {
          "model_module": "@jupyter-widgets/base",
          "model_name": "LayoutModel",
          "model_module_version": "1.2.0",
          "state": {
            "_model_module": "@jupyter-widgets/base",
            "_model_module_version": "1.2.0",
            "_model_name": "LayoutModel",
            "_view_count": null,
            "_view_module": "@jupyter-widgets/base",
            "_view_module_version": "1.2.0",
            "_view_name": "LayoutView",
            "align_content": null,
            "align_items": null,
            "align_self": null,
            "border": null,
            "bottom": null,
            "display": null,
            "flex": null,
            "flex_flow": null,
            "grid_area": null,
            "grid_auto_columns": null,
            "grid_auto_flow": null,
            "grid_auto_rows": null,
            "grid_column": null,
            "grid_gap": null,
            "grid_row": null,
            "grid_template_areas": null,
            "grid_template_columns": null,
            "grid_template_rows": null,
            "height": null,
            "justify_content": null,
            "justify_items": null,
            "left": null,
            "margin": null,
            "max_height": null,
            "max_width": null,
            "min_height": null,
            "min_width": null,
            "object_fit": null,
            "object_position": null,
            "order": null,
            "overflow": null,
            "overflow_x": null,
            "overflow_y": null,
            "padding": null,
            "right": null,
            "top": null,
            "visibility": null,
            "width": null
          }
        },
        "b3cdca60b3dd4db1a7810dcd4743a7ed": {
          "model_module": "@jupyter-widgets/controls",
          "model_name": "ProgressStyleModel",
          "model_module_version": "1.5.0",
          "state": {
            "_model_module": "@jupyter-widgets/controls",
            "_model_module_version": "1.5.0",
            "_model_name": "ProgressStyleModel",
            "_view_count": null,
            "_view_module": "@jupyter-widgets/base",
            "_view_module_version": "1.2.0",
            "_view_name": "StyleView",
            "bar_color": null,
            "description_width": ""
          }
        },
        "14f402406f554878805ad84490d320f6": {
          "model_module": "@jupyter-widgets/base",
          "model_name": "LayoutModel",
          "model_module_version": "1.2.0",
          "state": {
            "_model_module": "@jupyter-widgets/base",
            "_model_module_version": "1.2.0",
            "_model_name": "LayoutModel",
            "_view_count": null,
            "_view_module": "@jupyter-widgets/base",
            "_view_module_version": "1.2.0",
            "_view_name": "LayoutView",
            "align_content": null,
            "align_items": null,
            "align_self": null,
            "border": null,
            "bottom": null,
            "display": null,
            "flex": null,
            "flex_flow": null,
            "grid_area": null,
            "grid_auto_columns": null,
            "grid_auto_flow": null,
            "grid_auto_rows": null,
            "grid_column": null,
            "grid_gap": null,
            "grid_row": null,
            "grid_template_areas": null,
            "grid_template_columns": null,
            "grid_template_rows": null,
            "height": null,
            "justify_content": null,
            "justify_items": null,
            "left": null,
            "margin": null,
            "max_height": null,
            "max_width": null,
            "min_height": null,
            "min_width": null,
            "object_fit": null,
            "object_position": null,
            "order": null,
            "overflow": null,
            "overflow_x": null,
            "overflow_y": null,
            "padding": null,
            "right": null,
            "top": null,
            "visibility": null,
            "width": null
          }
        },
        "2873c363b05a4fa1b70ca625945edf3c": {
          "model_module": "@jupyter-widgets/controls",
          "model_name": "DescriptionStyleModel",
          "model_module_version": "1.5.0",
          "state": {
            "_model_module": "@jupyter-widgets/controls",
            "_model_module_version": "1.5.0",
            "_model_name": "DescriptionStyleModel",
            "_view_count": null,
            "_view_module": "@jupyter-widgets/base",
            "_view_module_version": "1.2.0",
            "_view_name": "StyleView",
            "description_width": ""
          }
        }
      }
    }
  },
  "cells": [
    {
      "cell_type": "markdown",
      "metadata": {
        "id": "view-in-github",
        "colab_type": "text"
      },
      "source": [
        "<a href=\"https://colab.research.google.com/github/DIFACQUIM/Art-Driven-by-Visual-Representations-of-Chemical-Space-/blob/main/FLAVOR_CATEGORIES.ipynb\" target=\"_parent\"><img src=\"https://colab.research.google.com/assets/colab-badge.svg\" alt=\"Open In Colab\"/></a>"
      ]
    },
    {
      "cell_type": "code",
      "execution_count": 1,
      "metadata": {
        "colab": {
          "base_uri": "https://localhost:8080/",
          "height": 49,
          "referenced_widgets": [
            "e2879c7ee86b4877bc12ac312d5d1404",
            "84469d2789b4425bbd5173cfaa9048d3",
            "c1e923c41c0c46cb9b49f2fe708525fa",
            "81a3f3a478024007bcc349f9fde774b1",
            "a9a56933cc7d4195bc95d1c718f03463",
            "d6b0fd05b7c14700bcb9ded565250ffe",
            "4290afe621f941b78b1cee14b7599338",
            "e120d4441ec44ccfb86f4daaa8c1a270",
            "b3cdca60b3dd4db1a7810dcd4743a7ed",
            "14f402406f554878805ad84490d320f6",
            "2873c363b05a4fa1b70ca625945edf3c"
          ]
        },
        "id": "ofYH_ocBcaKB",
        "outputId": "67bed096-8e60-48ca-9a4d-3bdea3d7d55e"
      },
      "outputs": [
        {
          "output_type": "display_data",
          "data": {
            "text/plain": [
              "  0%|          | 0/100 [00:00<?, ?it/s]"
            ],
            "application/vnd.jupyter.widget-view+json": {
              "version_major": 2,
              "version_minor": 0,
              "model_id": "e2879c7ee86b4877bc12ac312d5d1404"
            }
          },
          "metadata": {}
        }
      ],
      "source": [
        "from IPython.utils import io\n",
        "import tqdm.notebook\n",
        "import os, sys, random\n",
        "total = 100\n",
        "with tqdm.notebook.tqdm(total=total) as pbar:\n",
        "    with io.capture_output() as captured:\n",
        "      # Install rdkit\n",
        "      !pip -q install rdkit\n",
        "      pbar.update(50)\n",
        "      !pip -q install venn\n",
        "      pbar.update(100)\n",
        "import pandas as pd\n",
        "import numpy as np\n",
        "from sys import argv"
      ]
    },
    {
      "cell_type": "code",
      "source": [
        "# For save files at drive\n",
        "from google.colab import drive\n",
        "drive.mount('/content/drive')"
      ],
      "metadata": {
        "colab": {
          "base_uri": "https://localhost:8080/"
        },
        "id": "QMXXdAsHh3sH",
        "outputId": "c0153651-14e3-42dc-f586-99b7dc55879b"
      },
      "execution_count": 2,
      "outputs": [
        {
          "output_type": "stream",
          "name": "stdout",
          "text": [
            "Mounted at /content/drive\n"
          ]
        }
      ]
    },
    {
      "cell_type": "code",
      "source": [
        "url = \"https://raw.githubusercontent.com/DIFACQUIM/Art-Driven-by-Visual-Representations-of-Chemical-Space-/main/Datasets/FOODB_CURATED_21APRIL2023.csv\"\n",
        "FOODB = pd.read_csv(url)\n",
        "FOODB.head(2)"
      ],
      "metadata": {
        "id": "Dsv4Eo6JdNDD",
        "colab": {
          "base_uri": "https://localhost:8080/",
          "height": 112
        },
        "outputId": "928394a9-8ea2-4898-e6da-ef495b7ce523"
      },
      "execution_count": 3,
      "outputs": [
        {
          "output_type": "execute_result",
          "data": {
            "text/plain": [
              "   ID  PUBLIC_ID                                 NAME  \\\n",
              "0   4  FDB000004  Cyanidin 3-(6''-acetyl-galactoside)   \n",
              "1  13  FDB000013  Cyanidin 3-(6''-succinyl-glucoside)   \n",
              "\n",
              "                                              SMILES  \\\n",
              "0  [H][C@]1(COC(C)=O)O[C@@]([H])(OC2=CC3=C(O)C=C(...   \n",
              "1  [H][C@]1(COC(=O)CCC(O)=O)O[C@@]([H])(OC2=CC3=C...   \n",
              "\n",
              "                                          NEW_SMILES  \n",
              "0  CC(=O)OCC1OC(Oc2cc3c(O)cc(O)cc3[o+]c2-c2ccc(O)...  \n",
              "1  O=C(O)CCC(=O)OCC1OC(Oc2cc3c(O)cc(O)cc3[o+]c2-c...  "
            ],
            "text/html": [
              "\n",
              "  <div id=\"df-c53fff25-ff07-48ba-91f6-558e2c148cb1\" class=\"colab-df-container\">\n",
              "    <div>\n",
              "<style scoped>\n",
              "    .dataframe tbody tr th:only-of-type {\n",
              "        vertical-align: middle;\n",
              "    }\n",
              "\n",
              "    .dataframe tbody tr th {\n",
              "        vertical-align: top;\n",
              "    }\n",
              "\n",
              "    .dataframe thead th {\n",
              "        text-align: right;\n",
              "    }\n",
              "</style>\n",
              "<table border=\"1\" class=\"dataframe\">\n",
              "  <thead>\n",
              "    <tr style=\"text-align: right;\">\n",
              "      <th></th>\n",
              "      <th>ID</th>\n",
              "      <th>PUBLIC_ID</th>\n",
              "      <th>NAME</th>\n",
              "      <th>SMILES</th>\n",
              "      <th>NEW_SMILES</th>\n",
              "    </tr>\n",
              "  </thead>\n",
              "  <tbody>\n",
              "    <tr>\n",
              "      <th>0</th>\n",
              "      <td>4</td>\n",
              "      <td>FDB000004</td>\n",
              "      <td>Cyanidin 3-(6''-acetyl-galactoside)</td>\n",
              "      <td>[H][C@]1(COC(C)=O)O[C@@]([H])(OC2=CC3=C(O)C=C(...</td>\n",
              "      <td>CC(=O)OCC1OC(Oc2cc3c(O)cc(O)cc3[o+]c2-c2ccc(O)...</td>\n",
              "    </tr>\n",
              "    <tr>\n",
              "      <th>1</th>\n",
              "      <td>13</td>\n",
              "      <td>FDB000013</td>\n",
              "      <td>Cyanidin 3-(6''-succinyl-glucoside)</td>\n",
              "      <td>[H][C@]1(COC(=O)CCC(O)=O)O[C@@]([H])(OC2=CC3=C...</td>\n",
              "      <td>O=C(O)CCC(=O)OCC1OC(Oc2cc3c(O)cc(O)cc3[o+]c2-c...</td>\n",
              "    </tr>\n",
              "  </tbody>\n",
              "</table>\n",
              "</div>\n",
              "    <div class=\"colab-df-buttons\">\n",
              "\n",
              "  <div class=\"colab-df-container\">\n",
              "    <button class=\"colab-df-convert\" onclick=\"convertToInteractive('df-c53fff25-ff07-48ba-91f6-558e2c148cb1')\"\n",
              "            title=\"Convert this dataframe to an interactive table.\"\n",
              "            style=\"display:none;\">\n",
              "\n",
              "  <svg xmlns=\"http://www.w3.org/2000/svg\" height=\"24px\" viewBox=\"0 -960 960 960\">\n",
              "    <path d=\"M120-120v-720h720v720H120Zm60-500h600v-160H180v160Zm220 220h160v-160H400v160Zm0 220h160v-160H400v160ZM180-400h160v-160H180v160Zm440 0h160v-160H620v160ZM180-180h160v-160H180v160Zm440 0h160v-160H620v160Z\"/>\n",
              "  </svg>\n",
              "    </button>\n",
              "\n",
              "  <style>\n",
              "    .colab-df-container {\n",
              "      display:flex;\n",
              "      gap: 12px;\n",
              "    }\n",
              "\n",
              "    .colab-df-convert {\n",
              "      background-color: #E8F0FE;\n",
              "      border: none;\n",
              "      border-radius: 50%;\n",
              "      cursor: pointer;\n",
              "      display: none;\n",
              "      fill: #1967D2;\n",
              "      height: 32px;\n",
              "      padding: 0 0 0 0;\n",
              "      width: 32px;\n",
              "    }\n",
              "\n",
              "    .colab-df-convert:hover {\n",
              "      background-color: #E2EBFA;\n",
              "      box-shadow: 0px 1px 2px rgba(60, 64, 67, 0.3), 0px 1px 3px 1px rgba(60, 64, 67, 0.15);\n",
              "      fill: #174EA6;\n",
              "    }\n",
              "\n",
              "    .colab-df-buttons div {\n",
              "      margin-bottom: 4px;\n",
              "    }\n",
              "\n",
              "    [theme=dark] .colab-df-convert {\n",
              "      background-color: #3B4455;\n",
              "      fill: #D2E3FC;\n",
              "    }\n",
              "\n",
              "    [theme=dark] .colab-df-convert:hover {\n",
              "      background-color: #434B5C;\n",
              "      box-shadow: 0px 1px 3px 1px rgba(0, 0, 0, 0.15);\n",
              "      filter: drop-shadow(0px 1px 2px rgba(0, 0, 0, 0.3));\n",
              "      fill: #FFFFFF;\n",
              "    }\n",
              "  </style>\n",
              "\n",
              "    <script>\n",
              "      const buttonEl =\n",
              "        document.querySelector('#df-c53fff25-ff07-48ba-91f6-558e2c148cb1 button.colab-df-convert');\n",
              "      buttonEl.style.display =\n",
              "        google.colab.kernel.accessAllowed ? 'block' : 'none';\n",
              "\n",
              "      async function convertToInteractive(key) {\n",
              "        const element = document.querySelector('#df-c53fff25-ff07-48ba-91f6-558e2c148cb1');\n",
              "        const dataTable =\n",
              "          await google.colab.kernel.invokeFunction('convertToInteractive',\n",
              "                                                    [key], {});\n",
              "        if (!dataTable) return;\n",
              "\n",
              "        const docLinkHtml = 'Like what you see? Visit the ' +\n",
              "          '<a target=\"_blank\" href=https://colab.research.google.com/notebooks/data_table.ipynb>data table notebook</a>'\n",
              "          + ' to learn more about interactive tables.';\n",
              "        element.innerHTML = '';\n",
              "        dataTable['output_type'] = 'display_data';\n",
              "        await google.colab.output.renderOutput(dataTable, element);\n",
              "        const docLink = document.createElement('div');\n",
              "        docLink.innerHTML = docLinkHtml;\n",
              "        element.appendChild(docLink);\n",
              "      }\n",
              "    </script>\n",
              "  </div>\n",
              "\n",
              "\n",
              "<div id=\"df-1feea7c9-e62a-41fd-a071-e4c7d804ed02\">\n",
              "  <button class=\"colab-df-quickchart\" onclick=\"quickchart('df-1feea7c9-e62a-41fd-a071-e4c7d804ed02')\"\n",
              "            title=\"Suggest charts.\"\n",
              "            style=\"display:none;\">\n",
              "\n",
              "<svg xmlns=\"http://www.w3.org/2000/svg\" height=\"24px\"viewBox=\"0 0 24 24\"\n",
              "     width=\"24px\">\n",
              "    <g>\n",
              "        <path d=\"M19 3H5c-1.1 0-2 .9-2 2v14c0 1.1.9 2 2 2h14c1.1 0 2-.9 2-2V5c0-1.1-.9-2-2-2zM9 17H7v-7h2v7zm4 0h-2V7h2v10zm4 0h-2v-4h2v4z\"/>\n",
              "    </g>\n",
              "</svg>\n",
              "  </button>\n",
              "\n",
              "<style>\n",
              "  .colab-df-quickchart {\n",
              "      --bg-color: #E8F0FE;\n",
              "      --fill-color: #1967D2;\n",
              "      --hover-bg-color: #E2EBFA;\n",
              "      --hover-fill-color: #174EA6;\n",
              "      --disabled-fill-color: #AAA;\n",
              "      --disabled-bg-color: #DDD;\n",
              "  }\n",
              "\n",
              "  [theme=dark] .colab-df-quickchart {\n",
              "      --bg-color: #3B4455;\n",
              "      --fill-color: #D2E3FC;\n",
              "      --hover-bg-color: #434B5C;\n",
              "      --hover-fill-color: #FFFFFF;\n",
              "      --disabled-bg-color: #3B4455;\n",
              "      --disabled-fill-color: #666;\n",
              "  }\n",
              "\n",
              "  .colab-df-quickchart {\n",
              "    background-color: var(--bg-color);\n",
              "    border: none;\n",
              "    border-radius: 50%;\n",
              "    cursor: pointer;\n",
              "    display: none;\n",
              "    fill: var(--fill-color);\n",
              "    height: 32px;\n",
              "    padding: 0;\n",
              "    width: 32px;\n",
              "  }\n",
              "\n",
              "  .colab-df-quickchart:hover {\n",
              "    background-color: var(--hover-bg-color);\n",
              "    box-shadow: 0 1px 2px rgba(60, 64, 67, 0.3), 0 1px 3px 1px rgba(60, 64, 67, 0.15);\n",
              "    fill: var(--button-hover-fill-color);\n",
              "  }\n",
              "\n",
              "  .colab-df-quickchart-complete:disabled,\n",
              "  .colab-df-quickchart-complete:disabled:hover {\n",
              "    background-color: var(--disabled-bg-color);\n",
              "    fill: var(--disabled-fill-color);\n",
              "    box-shadow: none;\n",
              "  }\n",
              "\n",
              "  .colab-df-spinner {\n",
              "    border: 2px solid var(--fill-color);\n",
              "    border-color: transparent;\n",
              "    border-bottom-color: var(--fill-color);\n",
              "    animation:\n",
              "      spin 1s steps(1) infinite;\n",
              "  }\n",
              "\n",
              "  @keyframes spin {\n",
              "    0% {\n",
              "      border-color: transparent;\n",
              "      border-bottom-color: var(--fill-color);\n",
              "      border-left-color: var(--fill-color);\n",
              "    }\n",
              "    20% {\n",
              "      border-color: transparent;\n",
              "      border-left-color: var(--fill-color);\n",
              "      border-top-color: var(--fill-color);\n",
              "    }\n",
              "    30% {\n",
              "      border-color: transparent;\n",
              "      border-left-color: var(--fill-color);\n",
              "      border-top-color: var(--fill-color);\n",
              "      border-right-color: var(--fill-color);\n",
              "    }\n",
              "    40% {\n",
              "      border-color: transparent;\n",
              "      border-right-color: var(--fill-color);\n",
              "      border-top-color: var(--fill-color);\n",
              "    }\n",
              "    60% {\n",
              "      border-color: transparent;\n",
              "      border-right-color: var(--fill-color);\n",
              "    }\n",
              "    80% {\n",
              "      border-color: transparent;\n",
              "      border-right-color: var(--fill-color);\n",
              "      border-bottom-color: var(--fill-color);\n",
              "    }\n",
              "    90% {\n",
              "      border-color: transparent;\n",
              "      border-bottom-color: var(--fill-color);\n",
              "    }\n",
              "  }\n",
              "</style>\n",
              "\n",
              "  <script>\n",
              "    async function quickchart(key) {\n",
              "      const quickchartButtonEl =\n",
              "        document.querySelector('#' + key + ' button');\n",
              "      quickchartButtonEl.disabled = true;  // To prevent multiple clicks.\n",
              "      quickchartButtonEl.classList.add('colab-df-spinner');\n",
              "      try {\n",
              "        const charts = await google.colab.kernel.invokeFunction(\n",
              "            'suggestCharts', [key], {});\n",
              "      } catch (error) {\n",
              "        console.error('Error during call to suggestCharts:', error);\n",
              "      }\n",
              "      quickchartButtonEl.classList.remove('colab-df-spinner');\n",
              "      quickchartButtonEl.classList.add('colab-df-quickchart-complete');\n",
              "    }\n",
              "    (() => {\n",
              "      let quickchartButtonEl =\n",
              "        document.querySelector('#df-1feea7c9-e62a-41fd-a071-e4c7d804ed02 button');\n",
              "      quickchartButtonEl.style.display =\n",
              "        google.colab.kernel.accessAllowed ? 'block' : 'none';\n",
              "    })();\n",
              "  </script>\n",
              "</div>\n",
              "    </div>\n",
              "  </div>\n"
            ]
          },
          "metadata": {},
          "execution_count": 3
        }
      ]
    },
    {
      "cell_type": "code",
      "source": [
        "#Select columns\n",
        "FOODB = FOODB [['ID','NAME','NEW_SMILES']]\n",
        "FOODB.columns = ['COMPOUND_ID', 'NAME_FOOD_DB', 'NEW_SMILES']\n",
        "FOODB.head(2)"
      ],
      "metadata": {
        "colab": {
          "base_uri": "https://localhost:8080/",
          "height": 112
        },
        "id": "FtgymAsvfMGC",
        "outputId": "b3bef7fd-9339-4bce-aace-e2b7e30613fc"
      },
      "execution_count": 4,
      "outputs": [
        {
          "output_type": "execute_result",
          "data": {
            "text/plain": [
              "   COMPOUND_ID                         NAME_FOOD_DB  \\\n",
              "0            4  Cyanidin 3-(6''-acetyl-galactoside)   \n",
              "1           13  Cyanidin 3-(6''-succinyl-glucoside)   \n",
              "\n",
              "                                          NEW_SMILES  \n",
              "0  CC(=O)OCC1OC(Oc2cc3c(O)cc(O)cc3[o+]c2-c2ccc(O)...  \n",
              "1  O=C(O)CCC(=O)OCC1OC(Oc2cc3c(O)cc(O)cc3[o+]c2-c...  "
            ],
            "text/html": [
              "\n",
              "  <div id=\"df-f0e07f02-6485-43af-92de-427f0949d716\" class=\"colab-df-container\">\n",
              "    <div>\n",
              "<style scoped>\n",
              "    .dataframe tbody tr th:only-of-type {\n",
              "        vertical-align: middle;\n",
              "    }\n",
              "\n",
              "    .dataframe tbody tr th {\n",
              "        vertical-align: top;\n",
              "    }\n",
              "\n",
              "    .dataframe thead th {\n",
              "        text-align: right;\n",
              "    }\n",
              "</style>\n",
              "<table border=\"1\" class=\"dataframe\">\n",
              "  <thead>\n",
              "    <tr style=\"text-align: right;\">\n",
              "      <th></th>\n",
              "      <th>COMPOUND_ID</th>\n",
              "      <th>NAME_FOOD_DB</th>\n",
              "      <th>NEW_SMILES</th>\n",
              "    </tr>\n",
              "  </thead>\n",
              "  <tbody>\n",
              "    <tr>\n",
              "      <th>0</th>\n",
              "      <td>4</td>\n",
              "      <td>Cyanidin 3-(6''-acetyl-galactoside)</td>\n",
              "      <td>CC(=O)OCC1OC(Oc2cc3c(O)cc(O)cc3[o+]c2-c2ccc(O)...</td>\n",
              "    </tr>\n",
              "    <tr>\n",
              "      <th>1</th>\n",
              "      <td>13</td>\n",
              "      <td>Cyanidin 3-(6''-succinyl-glucoside)</td>\n",
              "      <td>O=C(O)CCC(=O)OCC1OC(Oc2cc3c(O)cc(O)cc3[o+]c2-c...</td>\n",
              "    </tr>\n",
              "  </tbody>\n",
              "</table>\n",
              "</div>\n",
              "    <div class=\"colab-df-buttons\">\n",
              "\n",
              "  <div class=\"colab-df-container\">\n",
              "    <button class=\"colab-df-convert\" onclick=\"convertToInteractive('df-f0e07f02-6485-43af-92de-427f0949d716')\"\n",
              "            title=\"Convert this dataframe to an interactive table.\"\n",
              "            style=\"display:none;\">\n",
              "\n",
              "  <svg xmlns=\"http://www.w3.org/2000/svg\" height=\"24px\" viewBox=\"0 -960 960 960\">\n",
              "    <path d=\"M120-120v-720h720v720H120Zm60-500h600v-160H180v160Zm220 220h160v-160H400v160Zm0 220h160v-160H400v160ZM180-400h160v-160H180v160Zm440 0h160v-160H620v160ZM180-180h160v-160H180v160Zm440 0h160v-160H620v160Z\"/>\n",
              "  </svg>\n",
              "    </button>\n",
              "\n",
              "  <style>\n",
              "    .colab-df-container {\n",
              "      display:flex;\n",
              "      gap: 12px;\n",
              "    }\n",
              "\n",
              "    .colab-df-convert {\n",
              "      background-color: #E8F0FE;\n",
              "      border: none;\n",
              "      border-radius: 50%;\n",
              "      cursor: pointer;\n",
              "      display: none;\n",
              "      fill: #1967D2;\n",
              "      height: 32px;\n",
              "      padding: 0 0 0 0;\n",
              "      width: 32px;\n",
              "    }\n",
              "\n",
              "    .colab-df-convert:hover {\n",
              "      background-color: #E2EBFA;\n",
              "      box-shadow: 0px 1px 2px rgba(60, 64, 67, 0.3), 0px 1px 3px 1px rgba(60, 64, 67, 0.15);\n",
              "      fill: #174EA6;\n",
              "    }\n",
              "\n",
              "    .colab-df-buttons div {\n",
              "      margin-bottom: 4px;\n",
              "    }\n",
              "\n",
              "    [theme=dark] .colab-df-convert {\n",
              "      background-color: #3B4455;\n",
              "      fill: #D2E3FC;\n",
              "    }\n",
              "\n",
              "    [theme=dark] .colab-df-convert:hover {\n",
              "      background-color: #434B5C;\n",
              "      box-shadow: 0px 1px 3px 1px rgba(0, 0, 0, 0.15);\n",
              "      filter: drop-shadow(0px 1px 2px rgba(0, 0, 0, 0.3));\n",
              "      fill: #FFFFFF;\n",
              "    }\n",
              "  </style>\n",
              "\n",
              "    <script>\n",
              "      const buttonEl =\n",
              "        document.querySelector('#df-f0e07f02-6485-43af-92de-427f0949d716 button.colab-df-convert');\n",
              "      buttonEl.style.display =\n",
              "        google.colab.kernel.accessAllowed ? 'block' : 'none';\n",
              "\n",
              "      async function convertToInteractive(key) {\n",
              "        const element = document.querySelector('#df-f0e07f02-6485-43af-92de-427f0949d716');\n",
              "        const dataTable =\n",
              "          await google.colab.kernel.invokeFunction('convertToInteractive',\n",
              "                                                    [key], {});\n",
              "        if (!dataTable) return;\n",
              "\n",
              "        const docLinkHtml = 'Like what you see? Visit the ' +\n",
              "          '<a target=\"_blank\" href=https://colab.research.google.com/notebooks/data_table.ipynb>data table notebook</a>'\n",
              "          + ' to learn more about interactive tables.';\n",
              "        element.innerHTML = '';\n",
              "        dataTable['output_type'] = 'display_data';\n",
              "        await google.colab.output.renderOutput(dataTable, element);\n",
              "        const docLink = document.createElement('div');\n",
              "        docLink.innerHTML = docLinkHtml;\n",
              "        element.appendChild(docLink);\n",
              "      }\n",
              "    </script>\n",
              "  </div>\n",
              "\n",
              "\n",
              "<div id=\"df-fb3c02a4-ea73-4efd-8cee-e0ae25ff9acd\">\n",
              "  <button class=\"colab-df-quickchart\" onclick=\"quickchart('df-fb3c02a4-ea73-4efd-8cee-e0ae25ff9acd')\"\n",
              "            title=\"Suggest charts.\"\n",
              "            style=\"display:none;\">\n",
              "\n",
              "<svg xmlns=\"http://www.w3.org/2000/svg\" height=\"24px\"viewBox=\"0 0 24 24\"\n",
              "     width=\"24px\">\n",
              "    <g>\n",
              "        <path d=\"M19 3H5c-1.1 0-2 .9-2 2v14c0 1.1.9 2 2 2h14c1.1 0 2-.9 2-2V5c0-1.1-.9-2-2-2zM9 17H7v-7h2v7zm4 0h-2V7h2v10zm4 0h-2v-4h2v4z\"/>\n",
              "    </g>\n",
              "</svg>\n",
              "  </button>\n",
              "\n",
              "<style>\n",
              "  .colab-df-quickchart {\n",
              "      --bg-color: #E8F0FE;\n",
              "      --fill-color: #1967D2;\n",
              "      --hover-bg-color: #E2EBFA;\n",
              "      --hover-fill-color: #174EA6;\n",
              "      --disabled-fill-color: #AAA;\n",
              "      --disabled-bg-color: #DDD;\n",
              "  }\n",
              "\n",
              "  [theme=dark] .colab-df-quickchart {\n",
              "      --bg-color: #3B4455;\n",
              "      --fill-color: #D2E3FC;\n",
              "      --hover-bg-color: #434B5C;\n",
              "      --hover-fill-color: #FFFFFF;\n",
              "      --disabled-bg-color: #3B4455;\n",
              "      --disabled-fill-color: #666;\n",
              "  }\n",
              "\n",
              "  .colab-df-quickchart {\n",
              "    background-color: var(--bg-color);\n",
              "    border: none;\n",
              "    border-radius: 50%;\n",
              "    cursor: pointer;\n",
              "    display: none;\n",
              "    fill: var(--fill-color);\n",
              "    height: 32px;\n",
              "    padding: 0;\n",
              "    width: 32px;\n",
              "  }\n",
              "\n",
              "  .colab-df-quickchart:hover {\n",
              "    background-color: var(--hover-bg-color);\n",
              "    box-shadow: 0 1px 2px rgba(60, 64, 67, 0.3), 0 1px 3px 1px rgba(60, 64, 67, 0.15);\n",
              "    fill: var(--button-hover-fill-color);\n",
              "  }\n",
              "\n",
              "  .colab-df-quickchart-complete:disabled,\n",
              "  .colab-df-quickchart-complete:disabled:hover {\n",
              "    background-color: var(--disabled-bg-color);\n",
              "    fill: var(--disabled-fill-color);\n",
              "    box-shadow: none;\n",
              "  }\n",
              "\n",
              "  .colab-df-spinner {\n",
              "    border: 2px solid var(--fill-color);\n",
              "    border-color: transparent;\n",
              "    border-bottom-color: var(--fill-color);\n",
              "    animation:\n",
              "      spin 1s steps(1) infinite;\n",
              "  }\n",
              "\n",
              "  @keyframes spin {\n",
              "    0% {\n",
              "      border-color: transparent;\n",
              "      border-bottom-color: var(--fill-color);\n",
              "      border-left-color: var(--fill-color);\n",
              "    }\n",
              "    20% {\n",
              "      border-color: transparent;\n",
              "      border-left-color: var(--fill-color);\n",
              "      border-top-color: var(--fill-color);\n",
              "    }\n",
              "    30% {\n",
              "      border-color: transparent;\n",
              "      border-left-color: var(--fill-color);\n",
              "      border-top-color: var(--fill-color);\n",
              "      border-right-color: var(--fill-color);\n",
              "    }\n",
              "    40% {\n",
              "      border-color: transparent;\n",
              "      border-right-color: var(--fill-color);\n",
              "      border-top-color: var(--fill-color);\n",
              "    }\n",
              "    60% {\n",
              "      border-color: transparent;\n",
              "      border-right-color: var(--fill-color);\n",
              "    }\n",
              "    80% {\n",
              "      border-color: transparent;\n",
              "      border-right-color: var(--fill-color);\n",
              "      border-bottom-color: var(--fill-color);\n",
              "    }\n",
              "    90% {\n",
              "      border-color: transparent;\n",
              "      border-bottom-color: var(--fill-color);\n",
              "    }\n",
              "  }\n",
              "</style>\n",
              "\n",
              "  <script>\n",
              "    async function quickchart(key) {\n",
              "      const quickchartButtonEl =\n",
              "        document.querySelector('#' + key + ' button');\n",
              "      quickchartButtonEl.disabled = true;  // To prevent multiple clicks.\n",
              "      quickchartButtonEl.classList.add('colab-df-spinner');\n",
              "      try {\n",
              "        const charts = await google.colab.kernel.invokeFunction(\n",
              "            'suggestCharts', [key], {});\n",
              "      } catch (error) {\n",
              "        console.error('Error during call to suggestCharts:', error);\n",
              "      }\n",
              "      quickchartButtonEl.classList.remove('colab-df-spinner');\n",
              "      quickchartButtonEl.classList.add('colab-df-quickchart-complete');\n",
              "    }\n",
              "    (() => {\n",
              "      let quickchartButtonEl =\n",
              "        document.querySelector('#df-fb3c02a4-ea73-4efd-8cee-e0ae25ff9acd button');\n",
              "      quickchartButtonEl.style.display =\n",
              "        google.colab.kernel.accessAllowed ? 'block' : 'none';\n",
              "    })();\n",
              "  </script>\n",
              "</div>\n",
              "    </div>\n",
              "  </div>\n"
            ]
          },
          "metadata": {},
          "execution_count": 4
        }
      ]
    },
    {
      "cell_type": "code",
      "source": [
        "FOODB[\"FLAVOR_ID\"] = [\"FOODB\" for x in FOODB[\"NEW_SMILES\"]]\n",
        "FOODB[\"NAME_FLAVOR\"] = [\"UNFLAVOR\" for x in FOODB[\"NEW_SMILES\"]]\n",
        "FOODB['FLAVOR_GROUP'] =[\"UNFLAVOR_GROUP\" for x in FOODB[\"NEW_SMILES\"]]\n",
        "FOODB.shape"
      ],
      "metadata": {
        "colab": {
          "base_uri": "https://localhost:8080/"
        },
        "id": "8F6u8y-dgVIF",
        "outputId": "f787f75b-cef2-4193-dfc8-0eb861b2651e"
      },
      "execution_count": 5,
      "outputs": [
        {
          "output_type": "execute_result",
          "data": {
            "text/plain": [
              "(52856, 6)"
            ]
          },
          "metadata": {},
          "execution_count": 5
        }
      ]
    },
    {
      "cell_type": "code",
      "source": [
        "# Remove repeated compounds\n",
        "FOODB = FOODB.drop_duplicates(subset=[\"NEW_SMILES\"], keep=\"first\").reset_index(drop=True)\n",
        "FOODB.shape"
      ],
      "metadata": {
        "colab": {
          "base_uri": "https://localhost:8080/"
        },
        "id": "xg-0LZXOqebP",
        "outputId": "0b5312ff-0d26-41c2-c553-2fe032d9f106"
      },
      "execution_count": 6,
      "outputs": [
        {
          "output_type": "execute_result",
          "data": {
            "text/plain": [
              "(52856, 6)"
            ]
          },
          "metadata": {},
          "execution_count": 6
        }
      ]
    },
    {
      "cell_type": "code",
      "source": [
        "url = \"https://raw.githubusercontent.com/DIFACQUIM/Art-Driven-by-Visual-Representations-of-Chemical-Space-/main/Datasets/FLAVOR_CATEGORIES_27APRIL2023.csv\"\n",
        "FLAVORS = pd.read_csv(url)\n",
        "FLAVORS.shape"
      ],
      "metadata": {
        "colab": {
          "base_uri": "https://localhost:8080/"
        },
        "id": "qlm1ndCHe8KX",
        "outputId": "0073c3c9-d8fe-4bde-bb60-64f18c29afa1"
      },
      "execution_count": 7,
      "outputs": [
        {
          "output_type": "execute_result",
          "data": {
            "text/plain": [
              "(4964, 6)"
            ]
          },
          "metadata": {},
          "execution_count": 7
        }
      ]
    },
    {
      "cell_type": "markdown",
      "source": [
        "\n",
        "## 1. Ground flavors"
      ],
      "metadata": {
        "id": "6sm0ketSDt7v"
      }
    },
    {
      "cell_type": "code",
      "source": [
        "# Green\n",
        "GREEN = FLAVORS[FLAVORS[\"FLAVOR_GROUP\"] == str(\"green\")]\n",
        "GREEN = GREEN.drop_duplicates(subset=[\"NEW_SMILES\"], keep=\"first\").reset_index(drop=True)\n",
        "print(GREEN.shape)\n",
        "# Earthy\n",
        "EARTHY = FLAVORS[FLAVORS[\"FLAVOR_GROUP\"] == str('earthy')]\n",
        "EARTHY = EARTHY.drop_duplicates(subset=[\"NEW_SMILES\"], keep=\"first\").reset_index(drop=True)\n",
        "print(EARTHY.shape)\n",
        "# Herbaceous\n",
        "HERBACEOUS = FLAVORS[FLAVORS[\"FLAVOR_GROUP\"] == str('herbaceous')]\n",
        "HERBACEOUS = HERBACEOUS.drop_duplicates(subset=[\"NEW_SMILES\"], keep=\"first\").reset_index(drop=True)\n",
        "print(HERBACEOUS.shape)\n",
        "# Concat datasets\n",
        "result = pd.concat([FOODB, GREEN, EARTHY, HERBACEOUS])\n",
        "print(result.shape)\n",
        "# Save ground_flavors_and_allFooDB\n",
        "result.to_csv(\"01_ground_flavors_and_allFooDB.csv\", sep=\",\", index=False)\n",
        "# Save only ground_flavors\n",
        "result = result[result[\"FLAVOR_GROUP\"] != str(\"UNFLAVOR_GROUP\")]\n",
        "print(result.shape)\n",
        "result.to_csv(\"01_ground_flavors_16JUNE2023.csv\", sep=\",\", index=False)"
      ],
      "metadata": {
        "colab": {
          "base_uri": "https://localhost:8080/"
        },
        "id": "7gWjDu9fDsF0",
        "outputId": "997b7e73-4aab-4a50-eab7-edd005e9877b"
      },
      "execution_count": 8,
      "outputs": [
        {
          "output_type": "stream",
          "name": "stdout",
          "text": [
            "(425, 6)\n",
            "(184, 6)\n",
            "(46, 6)\n",
            "(53511, 6)\n",
            "(655, 6)\n"
          ]
        }
      ]
    },
    {
      "cell_type": "code",
      "source": [
        "from venn import venn\n",
        "import matplotlib.pyplot as plt\n",
        "# Split dataset\n",
        "GREEN = result[result[\"FLAVOR_GROUP\"]==str('green')]\n",
        "EARTHY = result[result[\"FLAVOR_GROUP\"]==str('earthy')]\n",
        "HERBACEOUS = result[result[\"FLAVOR_GROUP\"]==str('herbaceous')]\n",
        "# Generate venn diagram\n",
        "COMPOUNDS = {\"GREEN\":set(GREEN[\"NEW_SMILES\"]),\n",
        "             \"EARTHY\":set(EARTHY[\"NEW_SMILES\"]),\n",
        "             \"HERBACEOUS\":set(HERBACEOUS[\"NEW_SMILES\"])}\n",
        "COMPOUNDS = venn(COMPOUNDS, fontsize=12)\n",
        "plt.suptitle(\"COMPOUNDS\", fontsize=17)"
      ],
      "metadata": {
        "colab": {
          "base_uri": "https://localhost:8080/",
          "height": 749
        },
        "id": "D1CTHA40FcPP",
        "outputId": "61fad49b-95fe-469b-a72c-843ff3c6ec10"
      },
      "execution_count": 9,
      "outputs": [
        {
          "output_type": "execute_result",
          "data": {
            "text/plain": [
              "Text(0.5, 0.98, 'COMPOUNDS')"
            ]
          },
          "metadata": {},
          "execution_count": 9
        },
        {
          "output_type": "display_data",
          "data": {
            "text/plain": [
              "<Figure size 800x800 with 1 Axes>"
            ],
            "image/png": "[encoded data removed]"
          },
          "metadata": {}
        }
      ]
    },
    {
      "cell_type": "markdown",
      "source": [
        "## 2. Wine-tasting"
      ],
      "metadata": {
        "id": "M8SilfIVFy3T"
      }
    },
    {
      "cell_type": "code",
      "source": [
        "# FRUITY\n",
        "FRUITY = FLAVORS[FLAVORS[\"FLAVOR_GROUP\"]==str('fruity')]\n",
        "FRUITY = FRUITY.drop_duplicates(subset=[\"NEW_SMILES\"], keep=\"first\").reset_index(drop=True)\n",
        "print(FRUITY.shape)\n",
        "# FLORAL\n",
        "FLORAL = FLAVORS[FLAVORS[\"FLAVOR_GROUP\"]==str('floral')]\n",
        "FLORAL = FLORAL.drop_duplicates(subset=[\"NEW_SMILES\"], keep=\"first\").reset_index(drop=True)\n",
        "print(FLORAL.shape)\n",
        "# Concat datasets\n",
        "result = pd.concat([FOODB, FRUITY, FLORAL])\n",
        "print(result.shape)\n",
        "# Save ground_flavors_and_allFooDB\n",
        "result.to_csv(\"02_wine_notes_and_allFooDB.csv\", sep=\",\", index=False)\n",
        "# Save only ground_flavors\n",
        "result = result[result[\"FLAVOR_GROUP\"] != str(\"UNFLAVOR_GROUP\")]\n",
        "print(result.shape)\n",
        "result.to_csv(\"02_wine_notes_16JUNE2023.csv\", sep=\",\", index=False)"
      ],
      "metadata": {
        "colab": {
          "base_uri": "https://localhost:8080/"
        },
        "id": "deUWOfKSF6Th",
        "outputId": "a82e48bc-82e5-4a8a-9515-c7c97b67ff28"
      },
      "execution_count": 10,
      "outputs": [
        {
          "output_type": "stream",
          "name": "stdout",
          "text": [
            "(668, 6)\n",
            "(356, 6)\n",
            "(53880, 6)\n",
            "(1024, 6)\n"
          ]
        }
      ]
    },
    {
      "cell_type": "code",
      "source": [
        "from venn import venn\n",
        "import matplotlib.pyplot as plt\n",
        "# Split dataset\n",
        "FRUITY = result[result[\"FLAVOR_GROUP\"]==str('fruity')]\n",
        "FLORAL = result[result[\"FLAVOR_GROUP\"]==str('floral')]\n",
        "\n",
        "# Generate venn diagram\n",
        "COMPOUNDS = {\"FRUITY\":set(FRUITY[\"NEW_SMILES\"]),\n",
        "             \"FLORAL\":set(FLORAL[\"NEW_SMILES\"])\n",
        "             }\n",
        "COMPOUNDS = venn(COMPOUNDS, fontsize=12)\n",
        "plt.suptitle(\"COMPOUNDS\", fontsize=17)"
      ],
      "metadata": {
        "colab": {
          "base_uri": "https://localhost:8080/",
          "height": 749
        },
        "id": "TTs5q5tYLaGf",
        "outputId": "490e8a0b-28ef-4e41-ff69-e88b99fe4fc2"
      },
      "execution_count": 11,
      "outputs": [
        {
          "output_type": "execute_result",
          "data": {
            "text/plain": [
              "Text(0.5, 0.98, 'COMPOUNDS')"
            ]
          },
          "metadata": {},
          "execution_count": 11
        },
        {
          "output_type": "display_data",
          "data": {
            "text/plain": [
              "<Figure size 800x800 with 1 Axes>"
            ],
            "image/png": "[encoded data removed]"
          },
          "metadata": {}
        }
      ]
    },
    {
      "cell_type": "markdown",
      "source": [
        "## 3. Fatty and spicy"
      ],
      "metadata": {
        "id": "cSaNnDncHNak"
      }
    },
    {
      "cell_type": "code",
      "source": [
        "# FATTY\n",
        "FATTY = FLAVORS[FLAVORS[\"FLAVOR_GROUP\"]==str('fatty')]\n",
        "FATTY = FATTY.drop_duplicates(subset=[\"NEW_SMILES\"], keep=\"first\").reset_index(drop=True)\n",
        "print(FATTY.shape)\n",
        "# SPICY\n",
        "SPICY = FLAVORS[FLAVORS[\"FLAVOR_GROUP\"]==str('spicy')]\n",
        "SPICY = SPICY.drop_duplicates(subset=[\"NEW_SMILES\"], keep=\"first\").reset_index(drop=True)\n",
        "print(SPICY.shape)\n",
        "# Concat datasets\n",
        "result = pd.concat([FOODB, FATTY, SPICY])\n",
        "print(result.shape)\n",
        "# Save ground_flavors_and_allFooDB\n",
        "result.to_csv(\"03_fatty_spicy_and_allFooDB.csv\", sep=\",\", index=False)\n",
        "# Save only ground_flavors\n",
        "result = result[result[\"FLAVOR_GROUP\"] != str(\"UNFLAVOR_GROUP\")]\n",
        "print(result.shape)\n",
        "result.to_csv(\"03_fatty_spicy_16JUNE2023.csv\", sep=\",\", index=False)"
      ],
      "metadata": {
        "colab": {
          "base_uri": "https://localhost:8080/"
        },
        "id": "5vMLEGc7F6fb",
        "outputId": "3e8c91af-6996-455d-b758-ac3483fdc1cf"
      },
      "execution_count": 12,
      "outputs": [
        {
          "output_type": "stream",
          "name": "stdout",
          "text": [
            "(300, 6)\n",
            "(130, 6)\n",
            "(53286, 6)\n",
            "(430, 6)\n"
          ]
        }
      ]
    },
    {
      "cell_type": "code",
      "source": [
        "from venn import venn\n",
        "import matplotlib.pyplot as plt\n",
        "# Split dataset\n",
        "FATTY = result[result[\"FLAVOR_GROUP\"]==str('fatty')]\n",
        "SPACY = result[result[\"FLAVOR_GROUP\"]==str('spicy')]\n",
        "\n",
        "# Generate venn diagram\n",
        "COMPOUNDS = {\"FATTY\":set(FATTY[\"NEW_SMILES\"]),\n",
        "             \"SPACY\":set(SPACY[\"NEW_SMILES\"])\n",
        "             }\n",
        "COMPOUNDS = venn(COMPOUNDS, fontsize=12)\n",
        "plt.suptitle(\"COMPOUNDS\", fontsize=17)"
      ],
      "metadata": {
        "colab": {
          "base_uri": "https://localhost:8080/",
          "height": 749
        },
        "id": "EDVPThk4Ls_c",
        "outputId": "b9770dfe-8d44-41f8-9fb4-08e884035dd2"
      },
      "execution_count": 13,
      "outputs": [
        {
          "output_type": "execute_result",
          "data": {
            "text/plain": [
              "Text(0.5, 0.98, 'COMPOUNDS')"
            ]
          },
          "metadata": {},
          "execution_count": 13
        },
        {
          "output_type": "display_data",
          "data": {
            "text/plain": [
              "<Figure size 800x800 with 1 Axes>"
            ],
            "image/png": "[encoded data removed]"
          },
          "metadata": {}
        }
      ]
    },
    {
      "cell_type": "markdown",
      "source": [
        "# 4. Natural remedies"
      ],
      "metadata": {
        "id": "N1pldk2TI1K3"
      }
    },
    {
      "cell_type": "code",
      "source": [
        "# BALSAMIC\n",
        "BALSAMIC = FLAVORS[FLAVORS[\"FLAVOR_GROUP\"]==str('balsamic')]\n",
        "BALSAMIC = BALSAMIC.drop_duplicates(subset=[\"NEW_SMILES\"], keep=\"first\").reset_index(drop=True)\n",
        "print(BALSAMIC.shape)\n",
        "# CHEMICAL\n",
        "CHEMICAL = FLAVORS[FLAVORS[\"FLAVOR_GROUP\"]==str('chemical')]\n",
        "CHEMICAL = CHEMICAL.drop_duplicates(subset=[\"NEW_SMILES\"], keep=\"first\").reset_index(drop=True)\n",
        "print(CHEMICAL.shape)\n",
        "# MEDICINAL\n",
        "MEDICINAL = FLAVORS[FLAVORS[\"FLAVOR_GROUP\"]==str('medicinal')]\n",
        "MEDICINAL = MEDICINAL.drop_duplicates(subset=[\"NEW_SMILES\"], keep=\"first\").reset_index(drop=True)\n",
        "print(MEDICINAL.shape)\n",
        "# Concat datasets\n",
        "result = pd.concat([FOODB,BALSAMIC, CHEMICAL, MEDICINAL])\n",
        "print(result.shape)\n",
        "# Save ground_flavors_and_allFooDB\n",
        "result.to_csv(\"04_natural_remedies_and_allFooDB.csv\", sep=\",\", index=False)\n",
        "# Save only ground_flavors\n",
        "result = result[result[\"FLAVOR_GROUP\"] != str(\"UNFLAVOR_GROUP\")]\n",
        "print(result.shape)\n",
        "result.to_csv(\"04_natural_remedies_16JUNE2023.csv\", sep=\",\", index=False)"
      ],
      "metadata": {
        "colab": {
          "base_uri": "https://localhost:8080/"
        },
        "id": "a9dpFR_5JDux",
        "outputId": "1b932de8-2bcb-4d6c-b99d-14ce7a3c4561"
      },
      "execution_count": 14,
      "outputs": [
        {
          "output_type": "stream",
          "name": "stdout",
          "text": [
            "(624, 6)\n",
            "(117, 6)\n",
            "(21, 6)\n",
            "(53618, 6)\n",
            "(762, 6)\n"
          ]
        }
      ]
    },
    {
      "cell_type": "code",
      "source": [
        "from venn import venn\n",
        "import matplotlib.pyplot as plt\n",
        "# Split dataset\n",
        "BALSAMIC = result[result[\"FLAVOR_GROUP\"]==str('balsamic')]\n",
        "CHEMICAL = result[result[\"FLAVOR_GROUP\"]==str('chemical')]\n",
        "MEDICINAL = result[result[\"FLAVOR_GROUP\"]==str('medicinal')]\n",
        "# Generate venn diagram\n",
        "COMPOUNDS = {\"BALSAMIC\":set(BALSAMIC[\"NEW_SMILES\"]),\n",
        "             \"CHEMICAL\":set(CHEMICAL[\"NEW_SMILES\"]),\n",
        "             \"MEDICINAL\":set(MEDICINAL[\"NEW_SMILES\"])}\n",
        "COMPOUNDS = venn(COMPOUNDS, fontsize=12)\n",
        "plt.suptitle(\"COMPOUNDS\", fontsize=17)"
      ],
      "metadata": {
        "colab": {
          "base_uri": "https://localhost:8080/",
          "height": 749
        },
        "id": "8DQ2mvoYMZKH",
        "outputId": "3c03ce89-7287-442b-cb62-20ff8da9caa7"
      },
      "execution_count": 15,
      "outputs": [
        {
          "output_type": "execute_result",
          "data": {
            "text/plain": [
              "Text(0.5, 0.98, 'COMPOUNDS')"
            ]
          },
          "metadata": {},
          "execution_count": 15
        },
        {
          "output_type": "display_data",
          "data": {
            "text/plain": [
              "<Figure size 800x800 with 1 Axes>"
            ],
            "image/png": "[encoded data removed]"
          },
          "metadata": {}
        }
      ]
    }
  ]
}